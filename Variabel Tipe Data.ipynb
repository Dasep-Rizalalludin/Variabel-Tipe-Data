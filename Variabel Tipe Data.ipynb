{
 "cells": [
  {
   "cell_type": "markdown",
   "id": "1aeb97d3",
   "metadata": {},
   "source": [
    "<h1>Variabel dan Tipe Data Pyton</h1><hr>\n",
    "<font color=\"blue\">Beberapa</font> aturan pembuatan variabel di <b>python<b/>:"
   ]
  },
  {
   "cell_type": "markdown",
   "id": "08bb8ff7",
   "metadata": {},
   "source": [
    "<ol>\n",
    "    <li> Bersifat case sensitif => A != a</li>\n",
    "    <li>Harus di awali dengan huruf karakter _(Underscore)</li>\n",
    "    <li>Tidak boleh menggunakan spasi </li>\n",
    "    <li>Boleh menggunakan angka </li>\n",
    "</ol>"
   ]
  },
  {
   "cell_type": "code",
   "execution_count": 5,
   "id": "1536bc96",
   "metadata": {},
   "outputs": [
    {
     "name": "stdout",
     "output_type": "stream",
     "text": [
      "10\n",
      "100.9\n",
      "1\n",
      "True\n"
     ]
    }
   ],
   "source": [
    "data_int = 10\n",
    "data_float = 100.9\n",
    "data_string = '1'\n",
    "data_bool = True\n",
    "\n",
    "print(data_int)\n",
    "print(data_float)\n",
    "print(data_string)\n",
    "print(data_bool)"
   ]
  },
  {
   "cell_type": "markdown",
   "id": "63b00c8f",
   "metadata": {},
   "source": [
    "Untuk mengetahui tipe data dari sebuah variabel gunakan command <b>type<b/>"
   ]
  },
  {
   "cell_type": "code",
   "execution_count": 6,
   "id": "53e62919",
   "metadata": {},
   "outputs": [
    {
     "name": "stdout",
     "output_type": "stream",
     "text": [
      "<class 'int'>\n",
      "<class 'float'>\n",
      "<class 'str'>\n",
      "<class 'bool'>\n"
     ]
    }
   ],
   "source": [
    "print(type(data_int))\n",
    "print(type(data_float))\n",
    "print(type(data_string))\n",
    "print(type(data_bool))\n",
    "\n"
   ]
  },
  {
   "cell_type": "markdown",
   "id": "74209a22",
   "metadata": {},
   "source": [
    "Pada python terdapat proses <b>CASTING</b> yaitu konversi dari sebuah tipe data ke tipe data yang lain yaitu dengan sintaks <b>tipe_data(nama_variabel)</b>"
   ]
  },
  {
   "cell_type": "code",
   "execution_count": 21,
   "id": "b62dea5a",
   "metadata": {},
   "outputs": [
    {
     "name": "stdout",
     "output_type": "stream",
     "text": [
      "Nilai variabel data int= 10\n",
      "10.0\n",
      "10\n",
      "True\n"
     ]
    }
   ],
   "source": [
    "int_to_float = float(data_int)\n",
    "int_to_string = str(data_int)\n",
    "int_to_bool = bool(data_int)\n",
    "\n",
    "print(\"Nilai variabel data int=\", data_int)\n",
    "print(int_to_float)\n",
    "print(int_to_string)\n",
    "print(int_to_bool)"
   ]
  },
  {
   "cell_type": "code",
   "execution_count": 23,
   "id": "4843b31a",
   "metadata": {},
   "outputs": [
    {
     "name": "stdout",
     "output_type": "stream",
     "text": [
      "nilai variabel data string= 1\n",
      "1\n",
      "1.0\n",
      "True\n"
     ]
    }
   ],
   "source": [
    "str_to_int =int(data_string)\n",
    "str_to_float = float(data_string)\n",
    "str_to_bool = bool(data_string)\n",
    "\n",
    "print(\"nilai variabel data string=\", data_string)\n",
    "print(str_to_int)\n",
    "print(str_to_float)\n",
    "print(str_to_bool)"
   ]
  },
  {
   "cell_type": "code",
   "execution_count": null,
   "id": "744b0f27",
   "metadata": {},
   "outputs": [],
   "source": [
    "float_to_int = int (data_float)\n",
    "float_to_str = str (data_float)\n",
    "float_to_bool = bool (data_float)\n",
    "\n",
    "print(\"Nilai variabel float=\", data_float)\n",
    "print(float_to_int)\n",
    "print(float_to_str)\n",
    "print(float_to_bool)"
   ]
  },
  {
   "cell_type": "code",
   "execution_count": 25,
   "id": "6a9253de",
   "metadata": {},
   "outputs": [
    {
     "name": "stdout",
     "output_type": "stream",
     "text": [
      "Nilai variabel bool= True\n",
      "1\n",
      "True\n",
      "1.0\n"
     ]
    }
   ],
   "source": [
    "bool_to_int = int (data_bool)\n",
    "bool_to_str = str (data_bool)\n",
    "bool_to_float = float (data_bool)\n",
    "\n",
    "print(\"Nilai variabel bool=\",data_bool)\n",
    "print(bool_to_int)\n",
    "print(bool_to_str)\n",
    "print(bool_to_float)"
   ]
  },
  {
   "cell_type": "code",
   "execution_count": null,
   "id": "e676d597",
   "metadata": {},
   "outputs": [],
   "source": [
    "bil1 = int (input(\"isikan bilangan 1:\"))\n",
    "bil2 = int (input(\"isikan bilangan 2:\"))\n",
    "hasil_tambah = (bil1) + (bil2)\n",
    "hasil_bagi = bil1 / bil2\n",
    "print(\"Hasil Penjumlahan\", hasil_tambah)\n",
    "print(\"Hasil Bagi\", hasil_bagi)"
   ]
  },
  {
   "cell_type": "code",
   "execution_count": null,
   "id": "98f63c15",
   "metadata": {},
   "outputs": [],
   "source": []
  }
 ],
 "metadata": {
  "kernelspec": {
   "display_name": "Python 3 (ipykernel)",
   "language": "python",
   "name": "python3"
  },
  "language_info": {
   "codemirror_mode": {
    "name": "ipython",
    "version": 3
   },
   "file_extension": ".py",
   "mimetype": "text/x-python",
   "name": "python",
   "nbconvert_exporter": "python",
   "pygments_lexer": "ipython3",
   "version": "3.9.12"
  }
 },
 "nbformat": 4,
 "nbformat_minor": 5
}
